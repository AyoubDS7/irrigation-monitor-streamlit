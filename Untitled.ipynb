{
 "cells": [
  {
   "cell_type": "code",
   "execution_count": 8,
   "id": "e2eba974-43fb-48b1-ba36-4c9fa72f6fc4",
   "metadata": {},
   "outputs": [],
   "source": [
    "import torch\n",
    "import torch.nn as nn\n",
    "import torch.optim as optim\n",
    "import pandas as pd\n",
    "from sklearn.model_selection import train_test_split\n",
    "from sklearn.preprocessing import StandardScaler\n",
    "import os"
   ]
  },
  {
   "cell_type": "code",
   "execution_count": 191,
   "id": "cb30ab17-a56e-4010-b310-86166801e001",
   "metadata": {},
   "outputs": [],
   "source": [
    "class IrrigationNN(nn.Module):\n",
    "    def __init__(self, input_size=6, hidden1=64, hidden2=32, hidden3=16, output_size=4):\n",
    "        super(IrrigationNN, self).__init__()\n",
    "        \n",
    "        self.fc1 = nn.Linear(input_size, hidden1)\n",
    "        self.fc2 = nn.Linear(hidden1, hidden2)\n",
    "        self.fc3 = nn.Linear(hidden2, hidden3)\n",
    "        self.fc4 = nn.Linear(hidden3, output_size)\n",
    "        \n",
    "        self.tanh = nn.Tanh()\n",
    "\n",
    "    def forward(self, x):\n",
    "        x = self.tanh(self.fc1(x))\n",
    "        x = self.tanh(self.fc2(x))\n",
    "        x = self.tanh(self.fc3(x))\n",
    "        x = self.fc4(x)  # No activation on output, because we'll use CrossEntropyLoss\n",
    "        return x"
   ]
  },
  {
   "cell_type": "code",
   "execution_count": 193,
   "id": "ca12b0be-2af6-4e6d-b539-bdb855e323e8",
   "metadata": {},
   "outputs": [],
   "source": [
    "from imblearn.over_sampling import RandomOverSampler\n",
    "\n",
    "def load_data(csv_path):\n",
    "    df = pd.read_csv(csv_path)\n",
    "    X = df.drop(columns=['irrigation_status', 'Unnamed: 0']).values\n",
    "    y = df[\"irrigation_status\"].values\n",
    "    ros = RandomOverSampler(sampling_strategy={3: 500}, random_state=42)\n",
    "    X_resampled, y_resampled = ros.fit_resample(X, y)\n",
    "    scaler = StandardScaler()\n",
    "    X_resampled = scaler.fit_transform(X_resampled)\n",
    "\n",
    "    X_train, X_val, y_train, y_val = train_test_split(X_resampled, y_resampled, test_size=0.35, random_state=42)\n",
    "\n",
    "    X_train = torch.tensor(X_train, dtype=torch.float32)\n",
    "    y_train = torch.tensor(y_train, dtype=torch.long)\n",
    "    X_val = torch.tensor(X_val, dtype=torch.float32)\n",
    "    y_val = torch.tensor(y_val, dtype=torch.long)\n",
    "\n",
    "    return X_train, X_val, y_train, y_val, scaler"
   ]
  },
  {
   "cell_type": "code",
   "execution_count": 195,
   "id": "36eeca80-a93c-47ad-941d-f64c66cf7f8c",
   "metadata": {},
   "outputs": [],
   "source": [
    "def train_model(model, X_train, y_train, X_val, y_val, epochs=50, lr=0.001, weight_decay=0.01):\n",
    "    criterion = nn.CrossEntropyLoss()\n",
    "    optimizer = optim.Adam(model.parameters(), lr=lr, weight_decay=weight_decay)\n",
    "\n",
    "    for epoch in range(epochs):\n",
    "        model.train()\n",
    "        outputs = model(X_train)\n",
    "        loss = criterion(outputs, y_train)\n",
    "\n",
    "        optimizer.zero_grad()\n",
    "        loss.backward()\n",
    "        optimizer.step()\n",
    "\n",
    "        # Evaluate on validation set\n",
    "        model.eval()\n",
    "        with torch.no_grad():\n",
    "            val_outputs = model(X_val)\n",
    "            val_loss = criterion(val_outputs, y_val)\n",
    "\n",
    "        if (epoch + 1) % 5 == 0:\n",
    "            print(f'Epoch [{epoch+1}/{epochs}], Loss: {loss.item():.4f}, Val Loss: {val_loss.item():.4f}')\n",
    "\n",
    "    print(\"Training completed.\")"
   ]
  },
  {
   "cell_type": "code",
   "execution_count": 197,
   "id": "a966dd9c-17be-4aad-91b1-b021d0a63a6a",
   "metadata": {},
   "outputs": [],
   "source": [
    "from sklearn.metrics import accuracy_score, confusion_matrix\n",
    "\n",
    "def evaluate_model(model, X_val, y_val):\n",
    "    model.eval()\n",
    "    with torch.no_grad():\n",
    "        outputs = model(X_val)\n",
    "        _, predicted = torch.max(outputs, 1)\n",
    "        \n",
    "        y_val_np = y_val.numpy()\n",
    "        predicted_np = predicted.numpy()\n",
    "\n",
    "        acc = accuracy_score(y_val_np, predicted_np)\n",
    "        cm = confusion_matrix(y_val_np, predicted_np)\n",
    "\n",
    "        print(f\"Validation Accuracy: {acc:.4f}\")\n",
    "        print(\"Confusion Matrix:\")\n",
    "        print(cm)\n",
    "        return acc, cm\n"
   ]
  },
  {
   "cell_type": "code",
   "execution_count": 199,
   "id": "e74bd200-58bb-4b42-a9cd-28740d8acbe8",
   "metadata": {},
   "outputs": [],
   "source": [
    "def save_model(model, scaler, model_path=\"saved_models/irrigation_nn_model.pth\", scaler_path=\"saved_models/scaler.pkl\"):\n",
    "    os.makedirs(os.path.dirname(model_path), exist_ok=True)\n",
    "    torch.save(model.state_dict(), model_path)\n",
    "    import joblib\n",
    "    joblib.dump(scaler, scaler_path)\n",
    "    print(f\"Model saved to {model_path}\")\n",
    "    print(f\"Scaler saved to {scaler_path}\")"
   ]
  },
  {
   "cell_type": "code",
   "execution_count": 203,
   "id": "71cb8a43-69a8-4873-adf6-4a1b1c37b654",
   "metadata": {},
   "outputs": [
    {
     "name": "stdout",
     "output_type": "stream",
     "text": [
      "Epoch [5/100], Loss: 0.7365, Val Loss: 0.5960\n",
      "Epoch [10/100], Loss: 0.4499, Val Loss: 0.4073\n",
      "Epoch [15/100], Loss: 0.3905, Val Loss: 0.3614\n",
      "Epoch [20/100], Loss: 0.3902, Val Loss: 0.3080\n",
      "Epoch [25/100], Loss: 0.2973, Val Loss: 0.2766\n",
      "Epoch [30/100], Loss: 0.3002, Val Loss: 0.2731\n",
      "Epoch [35/100], Loss: 0.1557, Val Loss: 0.2065\n",
      "Epoch [40/100], Loss: 0.1290, Val Loss: 0.1337\n",
      "Epoch [45/100], Loss: 0.0995, Val Loss: 0.0979\n",
      "Epoch [50/100], Loss: 0.0741, Val Loss: 0.0927\n",
      "Epoch [55/100], Loss: 0.0784, Val Loss: 0.0775\n",
      "Epoch [60/100], Loss: 0.0817, Val Loss: 0.0769\n",
      "Epoch [65/100], Loss: 0.0660, Val Loss: 0.0657\n",
      "Epoch [70/100], Loss: 0.0630, Val Loss: 0.0631\n",
      "Epoch [75/100], Loss: 0.0607, Val Loss: 0.0648\n",
      "Epoch [80/100], Loss: 0.0537, Val Loss: 0.0612\n",
      "Epoch [85/100], Loss: 0.1473, Val Loss: 0.1638\n",
      "Epoch [90/100], Loss: 0.1881, Val Loss: 0.3712\n",
      "Epoch [95/100], Loss: 0.1676, Val Loss: 0.2117\n",
      "Epoch [100/100], Loss: 0.1518, Val Loss: 0.0867\n",
      "Training completed.\n",
      "Validation Accuracy: 0.9778\n",
      "Confusion Matrix:\n",
      "[[1710   24   32   10]\n",
      " [  12  938    0    0]\n",
      " [   8    0  972    0]\n",
      " [   0    0    0  175]]\n"
     ]
    }
   ],
   "source": [
    "csv_path = \"training_irrigation.csv\"  # Replace with your real CSV file path\n",
    "X_train, X_val, y_train, y_val, scaler = load_data(csv_path)\n",
    "model = IrrigationNN(input_size=6, hidden1=64, hidden2=32, hidden3=16, output_size=4)\n",
    "train_model(model, X_train, y_train, X_val, y_val, epochs=100, lr=0.09, weight_decay=0.004)\n",
    "accuracy, confusion = evaluate_model(model, X_val, y_val)"
   ]
  },
  {
   "cell_type": "code",
   "execution_count": 205,
   "id": "2427648a-da02-4f50-9a7f-58b479a30f18",
   "metadata": {},
   "outputs": [
    {
     "name": "stdout",
     "output_type": "stream",
     "text": [
      "Model saved to saved_models/irrigation_nn_model.pth\n",
      "Scaler saved to saved_models/scaler.pkl\n"
     ]
    }
   ],
   "source": [
    "save_model(model, scaler)"
   ]
  },
  {
   "cell_type": "code",
   "execution_count": 207,
   "id": "305fb9ff-413d-483a-92a2-70a1ae0cc0f2",
   "metadata": {},
   "outputs": [
    {
     "data": {
      "image/png": "[encoded data removed]",
      "text/plain": [
       "<Figure size 800x600 with 2 Axes>"
      ]
     },
     "metadata": {},
     "output_type": "display_data"
    }
   ],
   "source": [
    "import matplotlib.pyplot as plt\n",
    "import seaborn as sns\n",
    "# Plot with labels\n",
    "plt.figure(figsize=(8, 6))\n",
    "sns.heatmap(confusion, annot=True, fmt='d', cmap='Blues')\n",
    "plt.title('Confusion Matrix for Irrigation Status')\n",
    "plt.xlabel('Predicted')\n",
    "plt.ylabel('Actual')\n",
    "plt.savefig('confusion_matrix.png', dpi=300, bbox_inches='tight')\n",
    "plt.show()"
   ]
  },
  {
   "cell_type": "code",
   "execution_count": 209,
   "id": "d7889f2f-33d3-4907-a105-71ebc9bdc807",
   "metadata": {},
   "outputs": [
    {
     "data": {
      "text/plain": [
       "torch.Size([7205, 6])"
      ]
     },
     "execution_count": 209,
     "metadata": {},
     "output_type": "execute_result"
    }
   ],
   "source": [
    "X_train"
   ]
  },
  {
   "cell_type": "code",
   "execution_count": null,
   "id": "3cf4461c-e2bf-4294-8072-c21ea5775fe4",
   "metadata": {},
   "outputs": [],
   "source": []
  }
 ],
 "metadata": {
  "kernelspec": {
   "display_name": "Python (ai_env)",
   "language": "python",
   "name": "ai_env"
  },
  "language_info": {
   "codemirror_mode": {
    "name": "ipython",
    "version": 3
   },
   "file_extension": ".py",
   "mimetype": "text/x-python",
   "name": "python",
   "nbconvert_exporter": "python",
   "pygments_lexer": "ipython3",
   "version": "3.12.4"
  }
 },
 "nbformat": 4,
 "nbformat_minor": 5
}
